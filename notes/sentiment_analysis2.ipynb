{
 "cells": [
  {
   "cell_type": "code",
   "outputs": [
    {
     "data": {
      "text/plain": "                                                text       id  \\\n0                                    That game hurt.  eew5j0j   \n1   >sexuality shouldn’t be a grouping category I...  eemcysk   \n2     You do right, if you don't care then fuck 'em!  ed2mah1   \n3                                 Man I love reddit.  eeibobj   \n4  [NAME] was nowhere near them, he was by the Fa...  eda6yn6   \n\n                author            subreddit    link_id   parent_id  \\\n0                Brdd9                  nrl  t3_ajis4z  t1_eew18eq   \n1          TheGreen888     unpopularopinion  t3_ai4q37   t3_ai4q37   \n2             Labalool          confessions  t3_abru74  t1_ed2m7g7   \n3        MrsRobertshaw             facepalm  t3_ahulml   t3_ahulml   \n4  American_Fascist713  starwarsspeculation  t3_ackt2f  t1_eda65q2   \n\n    created_utc  rater_id  example_very_unclear  admiration  ...  love  \\\n0  1.548381e+09         1                 False           0  ...     0   \n1  1.548084e+09        37                  True           0  ...     0   \n2  1.546428e+09        37                 False           0  ...     0   \n3  1.547965e+09        18                 False           0  ...     1   \n4  1.546669e+09         2                 False           0  ...     0   \n\n   nervousness  optimism  pride  realization  relief  remorse  sadness  \\\n0            0         0      0            0       0        0        1   \n1            0         0      0            0       0        0        0   \n2            0         0      0            0       0        0        0   \n3            0         0      0            0       0        0        0   \n4            0         0      0            0       0        0        0   \n\n   surprise  neutral  \n0         0        0  \n1         0        0  \n2         0        1  \n3         0        0  \n4         0        1  \n\n[5 rows x 37 columns]",
      "text/html": "<div>\n<style scoped>\n    .dataframe tbody tr th:only-of-type {\n        vertical-align: middle;\n    }\n\n    .dataframe tbody tr th {\n        vertical-align: top;\n    }\n\n    .dataframe thead th {\n        text-align: right;\n    }\n</style>\n<table border=\"1\" class=\"dataframe\">\n  <thead>\n    <tr style=\"text-align: right;\">\n      <th></th>\n      <th>text</th>\n      <th>id</th>\n      <th>author</th>\n      <th>subreddit</th>\n      <th>link_id</th>\n      <th>parent_id</th>\n      <th>created_utc</th>\n      <th>rater_id</th>\n      <th>example_very_unclear</th>\n      <th>admiration</th>\n      <th>...</th>\n      <th>love</th>\n      <th>nervousness</th>\n      <th>optimism</th>\n      <th>pride</th>\n      <th>realization</th>\n      <th>relief</th>\n      <th>remorse</th>\n      <th>sadness</th>\n      <th>surprise</th>\n      <th>neutral</th>\n    </tr>\n  </thead>\n  <tbody>\n    <tr>\n      <th>0</th>\n      <td>That game hurt.</td>\n      <td>eew5j0j</td>\n      <td>Brdd9</td>\n      <td>nrl</td>\n      <td>t3_ajis4z</td>\n      <td>t1_eew18eq</td>\n      <td>1.548381e+09</td>\n      <td>1</td>\n      <td>False</td>\n      <td>0</td>\n      <td>...</td>\n      <td>0</td>\n      <td>0</td>\n      <td>0</td>\n      <td>0</td>\n      <td>0</td>\n      <td>0</td>\n      <td>0</td>\n      <td>1</td>\n      <td>0</td>\n      <td>0</td>\n    </tr>\n    <tr>\n      <th>1</th>\n      <td>&gt;sexuality shouldn’t be a grouping category I...</td>\n      <td>eemcysk</td>\n      <td>TheGreen888</td>\n      <td>unpopularopinion</td>\n      <td>t3_ai4q37</td>\n      <td>t3_ai4q37</td>\n      <td>1.548084e+09</td>\n      <td>37</td>\n      <td>True</td>\n      <td>0</td>\n      <td>...</td>\n      <td>0</td>\n      <td>0</td>\n      <td>0</td>\n      <td>0</td>\n      <td>0</td>\n      <td>0</td>\n      <td>0</td>\n      <td>0</td>\n      <td>0</td>\n      <td>0</td>\n    </tr>\n    <tr>\n      <th>2</th>\n      <td>You do right, if you don't care then fuck 'em!</td>\n      <td>ed2mah1</td>\n      <td>Labalool</td>\n      <td>confessions</td>\n      <td>t3_abru74</td>\n      <td>t1_ed2m7g7</td>\n      <td>1.546428e+09</td>\n      <td>37</td>\n      <td>False</td>\n      <td>0</td>\n      <td>...</td>\n      <td>0</td>\n      <td>0</td>\n      <td>0</td>\n      <td>0</td>\n      <td>0</td>\n      <td>0</td>\n      <td>0</td>\n      <td>0</td>\n      <td>0</td>\n      <td>1</td>\n    </tr>\n    <tr>\n      <th>3</th>\n      <td>Man I love reddit.</td>\n      <td>eeibobj</td>\n      <td>MrsRobertshaw</td>\n      <td>facepalm</td>\n      <td>t3_ahulml</td>\n      <td>t3_ahulml</td>\n      <td>1.547965e+09</td>\n      <td>18</td>\n      <td>False</td>\n      <td>0</td>\n      <td>...</td>\n      <td>1</td>\n      <td>0</td>\n      <td>0</td>\n      <td>0</td>\n      <td>0</td>\n      <td>0</td>\n      <td>0</td>\n      <td>0</td>\n      <td>0</td>\n      <td>0</td>\n    </tr>\n    <tr>\n      <th>4</th>\n      <td>[NAME] was nowhere near them, he was by the Fa...</td>\n      <td>eda6yn6</td>\n      <td>American_Fascist713</td>\n      <td>starwarsspeculation</td>\n      <td>t3_ackt2f</td>\n      <td>t1_eda65q2</td>\n      <td>1.546669e+09</td>\n      <td>2</td>\n      <td>False</td>\n      <td>0</td>\n      <td>...</td>\n      <td>0</td>\n      <td>0</td>\n      <td>0</td>\n      <td>0</td>\n      <td>0</td>\n      <td>0</td>\n      <td>0</td>\n      <td>0</td>\n      <td>0</td>\n      <td>1</td>\n    </tr>\n  </tbody>\n</table>\n<p>5 rows × 37 columns</p>\n</div>"
     },
     "execution_count": 65,
     "metadata": {},
     "output_type": "execute_result"
    }
   ],
   "source": [
    "#opened and printed out the first 5 rows of the dataframe(df).\n",
    "import pandas as pd \n",
    "df = pd.read_csv(\"../data/full_dataset/goemotions_1.csv\")\n",
    "\n",
    "df.head()\n"
   ],
   "metadata": {
    "collapsed": true,
    "ExecuteTime": {
     "end_time": "2025-06-25T02:02:10.365426700Z",
     "start_time": "2025-06-25T02:02:09.529250500Z"
    }
   },
   "id": "initial_id",
   "execution_count": 65
  },
  {
   "cell_type": "code",
   "outputs": [
    {
     "name": "stdout",
     "output_type": "stream",
     "text": [
      "Index(['text', 'created_utc', 'admiration', 'amusement', 'anger', 'annoyance',\n",
      "       'approval', 'caring', 'confusion', 'curiosity', 'desire',\n",
      "       'disappointment', 'disapproval', 'disgust', 'embarrassment',\n",
      "       'excitement', 'fear', 'gratitude', 'grief', 'joy', 'love',\n",
      "       'nervousness', 'optimism', 'pride', 'realization', 'relief', 'remorse',\n",
      "       'sadness', 'surprise', 'neutral'],\n",
      "      dtype='object')\n"
     ]
    }
   ],
   "source": [
    "#ensuring that it is a human-readable date.\n",
    "df[\"created_utc\"] = pd.to_datetime(df[\"created_utc\"], unit=\"s\")\n",
    "#df must not include examples that aren't clear\n",
    "df = df[df[\"example_very_unclear\"] == False]\n",
    "#dropping unwanted columns\n",
    "df.drop(columns=[\"id\",\"author\",\"subreddit\",\"link_id\",\"parent_id\",\"rater_id\",\"example_very_unclear\"], inplace=True)\n",
    "#double-checking that only wanted columns are present.\n",
    "print(df.columns)\n"
   ],
   "metadata": {
    "collapsed": false,
    "ExecuteTime": {
     "end_time": "2025-06-25T02:02:10.578944600Z",
     "start_time": "2025-06-25T02:02:10.364598900Z"
    }
   },
   "id": "9124fa99a6fef5b6",
   "execution_count": 66
  },
  {
   "cell_type": "code",
   "outputs": [
    {
     "data": {
      "text/plain": "(68871, 30)"
     },
     "execution_count": 67,
     "metadata": {},
     "output_type": "execute_result"
    }
   ],
   "source": [
    "#Getting familiar with the dataset.\n",
    "#shows how many rows and columns are present. (rows, column).\n",
    "df.shape\n"
   ],
   "metadata": {
    "collapsed": false,
    "ExecuteTime": {
     "end_time": "2025-06-25T02:02:10.587685700Z",
     "start_time": "2025-06-25T02:02:10.490952300Z"
    }
   },
   "id": "2513b5ad37e80c85",
   "execution_count": 67
  },
  {
   "cell_type": "code",
   "outputs": [
    {
     "name": "stdout",
     "output_type": "stream",
     "text": [
      "<class 'pandas.core.frame.DataFrame'>\n",
      "Index: 68871 entries, 0 to 69999\n",
      "Data columns (total 30 columns):\n",
      " #   Column          Non-Null Count  Dtype         \n",
      "---  ------          --------------  -----         \n",
      " 0   text            68871 non-null  object        \n",
      " 1   created_utc     68871 non-null  datetime64[ns]\n",
      " 2   admiration      68871 non-null  int64         \n",
      " 3   amusement       68871 non-null  int64         \n",
      " 4   anger           68871 non-null  int64         \n",
      " 5   annoyance       68871 non-null  int64         \n",
      " 6   approval        68871 non-null  int64         \n",
      " 7   caring          68871 non-null  int64         \n",
      " 8   confusion       68871 non-null  int64         \n",
      " 9   curiosity       68871 non-null  int64         \n",
      " 10  desire          68871 non-null  int64         \n",
      " 11  disappointment  68871 non-null  int64         \n",
      " 12  disapproval     68871 non-null  int64         \n",
      " 13  disgust         68871 non-null  int64         \n",
      " 14  embarrassment   68871 non-null  int64         \n",
      " 15  excitement      68871 non-null  int64         \n",
      " 16  fear            68871 non-null  int64         \n",
      " 17  gratitude       68871 non-null  int64         \n",
      " 18  grief           68871 non-null  int64         \n",
      " 19  joy             68871 non-null  int64         \n",
      " 20  love            68871 non-null  int64         \n",
      " 21  nervousness     68871 non-null  int64         \n",
      " 22  optimism        68871 non-null  int64         \n",
      " 23  pride           68871 non-null  int64         \n",
      " 24  realization     68871 non-null  int64         \n",
      " 25  relief          68871 non-null  int64         \n",
      " 26  remorse         68871 non-null  int64         \n",
      " 27  sadness         68871 non-null  int64         \n",
      " 28  surprise        68871 non-null  int64         \n",
      " 29  neutral         68871 non-null  int64         \n",
      "dtypes: datetime64[ns](1), int64(28), object(1)\n",
      "memory usage: 16.3+ MB\n"
     ]
    },
    {
     "data": {
      "text/plain": "text              0\ncreated_utc       0\nadmiration        0\namusement         0\nanger             0\nannoyance         0\napproval          0\ncaring            0\nconfusion         0\ncuriosity         0\ndesire            0\ndisappointment    0\ndisapproval       0\ndisgust           0\nembarrassment     0\nexcitement        0\nfear              0\ngratitude         0\ngrief             0\njoy               0\nlove              0\nnervousness       0\noptimism          0\npride             0\nrealization       0\nrelief            0\nremorse           0\nsadness           0\nsurprise          0\nneutral           0\ndtype: int64"
     },
     "execution_count": 68,
     "metadata": {},
     "output_type": "execute_result"
    }
   ],
   "source": [
    "#provides datatype, number of n/a , non-null records and memory usage.\n",
    "df.info()\n",
    "#ensuring there's no null values in our data set\n",
    "df.isnull().sum()"
   ],
   "metadata": {
    "collapsed": false,
    "ExecuteTime": {
     "end_time": "2025-06-25T02:02:10.680762700Z",
     "start_time": "2025-06-25T02:02:10.506394200Z"
    }
   },
   "id": "457fff6f9838fa97",
   "execution_count": 68
  },
  {
   "cell_type": "code",
   "outputs": [
    {
     "name": "stdout",
     "output_type": "stream",
     "text": [
      "Index(['admiration', 'amusement', 'anger', 'annoyance', 'approval', 'caring',\n",
      "       'confusion', 'curiosity', 'desire', 'disappointment', 'disapproval',\n",
      "       'disgust', 'embarrassment', 'excitement', 'fear', 'gratitude', 'grief',\n",
      "       'joy', 'love', 'nervousness', 'optimism', 'pride', 'realization',\n",
      "       'relief', 'remorse', 'sadness', 'surprise'],\n",
      "      dtype='object')\n"
     ]
    },
    {
     "data": {
      "text/plain": "                                                text         created_utc  \\\n0                                    That game hurt. 2019-01-25 01:50:39   \n3                                 Man I love reddit. 2019-01-20 06:17:34   \n5  Right? Considering it’s such an important docu... 2019-01-23 21:50:08   \n6  He isn't as big, but he's still quite popular.... 2019-01-01 05:21:16   \n7  That's crazy; I went to a super [RELIGION] hig... 2019-01-03 17:22:38   \n\n   admiration  amusement  anger  annoyance  approval  caring  confusion  \\\n0           0          0      0          0         0       0          0   \n3           0          0      0          0         0       0          0   \n5           0          0      0          0         0       0          0   \n6           0          0      0          0         0       0          0   \n7           0          1      0          0         0       0          0   \n\n   curiosity  ...  nervousness  optimism  pride  realization  relief  remorse  \\\n0          0  ...            0         0      0            0       0        0   \n3          0  ...            0         0      0            0       0        0   \n5          0  ...            0         0      0            0       0        0   \n6          0  ...            0         0      0            0       0        0   \n7          0  ...            0         0      0            0       0        0   \n\n   sadness  surprise  neutral  sum  \n0        1         0        0    1  \n3        0         0        0    1  \n5        0         0        0    1  \n6        0         0        0    1  \n7        0         0        0    1  \n\n[5 rows x 31 columns]",
      "text/html": "<div>\n<style scoped>\n    .dataframe tbody tr th:only-of-type {\n        vertical-align: middle;\n    }\n\n    .dataframe tbody tr th {\n        vertical-align: top;\n    }\n\n    .dataframe thead th {\n        text-align: right;\n    }\n</style>\n<table border=\"1\" class=\"dataframe\">\n  <thead>\n    <tr style=\"text-align: right;\">\n      <th></th>\n      <th>text</th>\n      <th>created_utc</th>\n      <th>admiration</th>\n      <th>amusement</th>\n      <th>anger</th>\n      <th>annoyance</th>\n      <th>approval</th>\n      <th>caring</th>\n      <th>confusion</th>\n      <th>curiosity</th>\n      <th>...</th>\n      <th>nervousness</th>\n      <th>optimism</th>\n      <th>pride</th>\n      <th>realization</th>\n      <th>relief</th>\n      <th>remorse</th>\n      <th>sadness</th>\n      <th>surprise</th>\n      <th>neutral</th>\n      <th>sum</th>\n    </tr>\n  </thead>\n  <tbody>\n    <tr>\n      <th>0</th>\n      <td>That game hurt.</td>\n      <td>2019-01-25 01:50:39</td>\n      <td>0</td>\n      <td>0</td>\n      <td>0</td>\n      <td>0</td>\n      <td>0</td>\n      <td>0</td>\n      <td>0</td>\n      <td>0</td>\n      <td>...</td>\n      <td>0</td>\n      <td>0</td>\n      <td>0</td>\n      <td>0</td>\n      <td>0</td>\n      <td>0</td>\n      <td>1</td>\n      <td>0</td>\n      <td>0</td>\n      <td>1</td>\n    </tr>\n    <tr>\n      <th>3</th>\n      <td>Man I love reddit.</td>\n      <td>2019-01-20 06:17:34</td>\n      <td>0</td>\n      <td>0</td>\n      <td>0</td>\n      <td>0</td>\n      <td>0</td>\n      <td>0</td>\n      <td>0</td>\n      <td>0</td>\n      <td>...</td>\n      <td>0</td>\n      <td>0</td>\n      <td>0</td>\n      <td>0</td>\n      <td>0</td>\n      <td>0</td>\n      <td>0</td>\n      <td>0</td>\n      <td>0</td>\n      <td>1</td>\n    </tr>\n    <tr>\n      <th>5</th>\n      <td>Right? Considering it’s such an important docu...</td>\n      <td>2019-01-23 21:50:08</td>\n      <td>0</td>\n      <td>0</td>\n      <td>0</td>\n      <td>0</td>\n      <td>0</td>\n      <td>0</td>\n      <td>0</td>\n      <td>0</td>\n      <td>...</td>\n      <td>0</td>\n      <td>0</td>\n      <td>0</td>\n      <td>0</td>\n      <td>0</td>\n      <td>0</td>\n      <td>0</td>\n      <td>0</td>\n      <td>0</td>\n      <td>1</td>\n    </tr>\n    <tr>\n      <th>6</th>\n      <td>He isn't as big, but he's still quite popular....</td>\n      <td>2019-01-01 05:21:16</td>\n      <td>0</td>\n      <td>0</td>\n      <td>0</td>\n      <td>0</td>\n      <td>0</td>\n      <td>0</td>\n      <td>0</td>\n      <td>0</td>\n      <td>...</td>\n      <td>0</td>\n      <td>0</td>\n      <td>0</td>\n      <td>0</td>\n      <td>0</td>\n      <td>0</td>\n      <td>0</td>\n      <td>0</td>\n      <td>0</td>\n      <td>1</td>\n    </tr>\n    <tr>\n      <th>7</th>\n      <td>That's crazy; I went to a super [RELIGION] hig...</td>\n      <td>2019-01-03 17:22:38</td>\n      <td>0</td>\n      <td>1</td>\n      <td>0</td>\n      <td>0</td>\n      <td>0</td>\n      <td>0</td>\n      <td>0</td>\n      <td>0</td>\n      <td>...</td>\n      <td>0</td>\n      <td>0</td>\n      <td>0</td>\n      <td>0</td>\n      <td>0</td>\n      <td>0</td>\n      <td>0</td>\n      <td>0</td>\n      <td>0</td>\n      <td>1</td>\n    </tr>\n  </tbody>\n</table>\n<p>5 rows × 31 columns</p>\n</div>"
     },
     "execution_count": 69,
     "metadata": {},
     "output_type": "execute_result"
    }
   ],
   "source": [
    "#removing rows that have no emotions at all\n",
    "emotions_column= df.columns[2:-1]\n",
    "df[\"sum\"]=df[emotions_column].sum(axis= 1)\n",
    "df= df[df[\"sum\"]>0]\n",
    "print(emotions_column)\n",
    "\n",
    "df.head()"
   ],
   "metadata": {
    "collapsed": false,
    "ExecuteTime": {
     "end_time": "2025-06-25T02:02:10.707954600Z",
     "start_time": "2025-06-25T02:02:10.562740600Z"
    }
   },
   "id": "a5164f1e34b2906d",
   "execution_count": 69
  },
  {
   "cell_type": "code",
   "outputs": [],
   "source": [
    "#preprocessed data put in a new file\n",
    "df.to_csv(\"../data/processed/goemotions_clean.csv\", index=False)\n"
   ],
   "metadata": {
    "collapsed": false,
    "ExecuteTime": {
     "end_time": "2025-06-25T02:02:11.844685400Z",
     "start_time": "2025-06-25T02:02:10.646542400Z"
    }
   },
   "id": "907ec393076096dd",
   "execution_count": 70
  },
  {
   "cell_type": "code",
   "outputs": [],
   "source": [],
   "metadata": {
    "collapsed": false,
    "ExecuteTime": {
     "end_time": "2025-06-25T02:02:11.868308100Z",
     "start_time": "2025-06-25T02:02:11.846105100Z"
    }
   },
   "id": "b8a7cb97c3a606ed",
   "execution_count": 70
  }
 ],
 "metadata": {
  "kernelspec": {
   "display_name": "Python 3",
   "language": "python",
   "name": "python3"
  },
  "language_info": {
   "codemirror_mode": {
    "name": "ipython",
    "version": 2
   },
   "file_extension": ".py",
   "mimetype": "text/x-python",
   "name": "python",
   "nbconvert_exporter": "python",
   "pygments_lexer": "ipython2",
   "version": "2.7.6"
  }
 },
 "nbformat": 4,
 "nbformat_minor": 5
}
